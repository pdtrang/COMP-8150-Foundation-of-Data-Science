{
 "cells": [
  {
   "cell_type": "code",
   "execution_count": 19,
   "metadata": {
    "collapsed": false
   },
   "outputs": [
    {
     "name": "stdout",
     "output_type": "stream",
     "text": [
      "Ridge\n",
      "\n",
      "Default parameters: \n",
      "Fit a model with full training data set, and calculate MSE on test set: 27.8042428025\n",
      "\n",
      "With alpha=0.5: \n",
      "Fit a model with validation set, and calculate MSE on test set: 31.2054589186\n",
      "\n",
      "Lasso\n",
      "\n",
      "Default parameters: \n",
      "Fit a model with full training data set, and calculate MSE on test set: 34.6523813556\n",
      "\n",
      "With alpha=0.5: \n",
      "Fit a model with validation set, and calculate MSE on test set: 33.6083554076\n"
     ]
    }
   ],
   "source": [
    "from sklearn.datasets import load_boston\n",
    "from sklearn.linear_model import Lasso, Ridge\n",
    "from sklearn.cross_validation import train_test_split\n",
    "import numpy as np\n",
    "\n",
    "boston = load_boston()\n",
    "\n",
    "# divide dataset randomly\n",
    "X_train, X_test, Y_train, Y_test = train_test_split(boston.data, boston.target, test_size=0.3, random_state=5)\n",
    "\n",
    "# Create linear regression object with a ridge coefficient 0.5\n",
    "ridge = Ridge()\n",
    "ridge_a = Ridge(alpha=0.5)\n",
    "\n",
    "# Train the model using the training set\n",
    "ridge.fit(boston.data,boston.target)\n",
    "ridge_a.fit(X_train,Y_train)\n",
    "\n",
    "# Compute RMSE on training data\n",
    "pred_test = ridge.predict(X_test)\n",
    "pred_test_a = ridge_a.predict(X_test)\n",
    "\n",
    "print (\"Ridge\")\n",
    "print (\"\\nDefault parameters: \")\n",
    "print (\"Fit a model with full training data set, and calculate MSE on test set:\", np.mean((Y_test - pred_test) ** 2))\n",
    "print (\"\\nWith alpha=0.5: \");\n",
    "print (\"Fit a model with validation set, and calculate MSE on test set:\", np.mean((Y_test - pred_test_a) ** 2))\n",
    "\n",
    "# Create linear regression object with a ridge coefficient 0.5\n",
    "lasso = Lasso()\n",
    "lasso_a = Lasso(alpha=0.5)\n",
    "\n",
    "# Train the model using the training set\n",
    "lasso.fit(boston.data,boston.target)\n",
    "lasso_a.fit(X_train,Y_train)\n",
    "\n",
    "# Compute RMSE on training data\n",
    "pred_test_l = lasso.predict(X_test)\n",
    "pred_test_la = lasso_a.predict(X_test)\n",
    "\n",
    "print (\"\\nLasso\")\n",
    "print (\"\\nDefault parameters: \")\n",
    "print (\"Fit a model with full training data set, and calculate MSE on test set:\", np.mean((Y_test - pred_test_l) ** 2))\n",
    "print (\"\\nWith alpha=0.5: \");\n",
    "print (\"Fit a model with validation set, and calculate MSE on test set:\", np.mean((Y_test - pred_test_la) ** 2))\n"
   ]
  },
  {
   "cell_type": "code",
   "execution_count": null,
   "metadata": {
    "collapsed": true
   },
   "outputs": [],
   "source": []
  }
 ],
 "metadata": {
  "kernelspec": {
   "display_name": "Python 3",
   "language": "python",
   "name": "python3"
  },
  "language_info": {
   "codemirror_mode": {
    "name": "ipython",
    "version": 3
   },
   "file_extension": ".py",
   "mimetype": "text/x-python",
   "name": "python",
   "nbconvert_exporter": "python",
   "pygments_lexer": "ipython3",
   "version": "3.5.1"
  }
 },
 "nbformat": 4,
 "nbformat_minor": 0
}
