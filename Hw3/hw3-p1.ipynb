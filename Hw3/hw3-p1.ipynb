{
 "cells": [
  {
   "cell_type": "code",
   "execution_count": 1,
   "metadata": {
    "collapsed": false
   },
   "outputs": [
    {
     "name": "stdout",
     "output_type": "stream",
     "text": [
      "K-Mean\n",
      "{0: 4, 1: 2, 2: 14, 3: 2, 4: 6, 5: 13, 6: 15, 7: 2, 8: 11, 9: 1, 10: 17, 11: 7, 12: 9, 13: 6, 14: 8, 15: 8, 16: 15, 17: 3, 18: 9, 19: 7}\n",
      "Weighted F-1 score 0.045980395293\n",
      "GMM\n",
      "{0: 14, 1: 13, 2: 7, 3: 6, 4: 5, 5: 10, 6: 6, 7: 3, 8: 2, 9: 8, 10: 9, 11: 3, 12: 2, 13: 1, 14: 5, 15: 6, 16: 12, 17: 2, 18: 0, 19: 4}\n",
      "Weighted F-1 score 0.0282796500416\n"
     ]
    }
   ],
   "source": [
    "from sklearn.datasets import fetch_20newsgroups\n",
    "from sklearn.feature_extraction.text import TfidfVectorizer\n",
    "from sklearn import metrics, mixture\n",
    "from sklearn.cluster import KMeans\n",
    "from sklearn.metrics import f1_score\n",
    "import numpy as np\n",
    "import matplotlib.pyplot as plt\n",
    "from collections import Counter\n",
    "\n",
    "newsgroups_train = fetch_20newsgroups(subset='train')\n",
    "newsgroups_test = fetch_20newsgroups(subset='test')\n",
    "\n",
    "vectorizer = TfidfVectorizer(max_features=1000)\n",
    "vectors = vectorizer.fit_transform(newsgroups_train.data)\n",
    "\n",
    "vectors_test = vectorizer.transform(newsgroups_test.data)\n",
    "\n",
    "labels = newsgroups_train.target\n",
    "true_k = np.unique(labels).shape[0]\n",
    "\n",
    "# K-mean\n",
    "print(\"K-Mean\")\n",
    "km = KMeans(n_clusters=true_k, init='k-means++', max_iter=100, n_init=1)\n",
    "km.fit(vectors)\n",
    "\n",
    "pre_labels = km.predict(vectors_test)\n",
    "\n",
    "# Decide label with majority rule for k clusters\n",
    "lbls = [[] for i in range(true_k)]\n",
    "i = 0\n",
    "all_labels =len(pre_labels)\n",
    "\n",
    "while i < all_labels:\n",
    "    cluster = pre_labels[i]\n",
    "    label = newsgroups_train.target[i]\n",
    "    lbls[cluster].append(label)\n",
    "    i += 1\n",
    "\n",
    "label_dict = {}\n",
    "for cluster in range(true_k):\n",
    "    label, count = Counter(lbls[cluster]).most_common()[0]\n",
    "    label_dict[cluster] = label    \n",
    "print (label_dict)\n",
    "\n",
    "print(\"Weighted F-1 score\", f1_score(newsgroups_test.target, pre_labels, average='weighted'))\n",
    "\n",
    "# Gaussian Mixture Models\n",
    "print(\"GMM\")\n",
    "gmix = mixture.GMM(n_components=true_k, covariance_type='full')\n",
    "gmix.fit(vectors.todense())\n",
    "pre_labels = gmix.predict(vectors_test.todense())\n",
    "\n",
    "lbls = [[] for i in range(true_k)]\n",
    "i = 0\n",
    "all_labels =len(pre_labels)\n",
    "\n",
    "while i < all_labels:\n",
    "    cluster = pre_labels[i]\n",
    "    label = newsgroups_train.target[i]\n",
    "    lbls[cluster].append(label)\n",
    "    i += 1\n",
    "\n",
    "label_dict = {}\n",
    "for cluster in range(true_k):\n",
    "    label, count = Counter(lbls[cluster]).most_common()[0]\n",
    "    label_dict[cluster] = label    \n",
    "print (label_dict)\n",
    "\n",
    "print(\"Weighted F-1 score\", f1_score(newsgroups_test.target, pre_labels, average='weighted'))"
   ]
  },
  {
   "cell_type": "code",
   "execution_count": null,
   "metadata": {
    "collapsed": true
   },
   "outputs": [],
   "source": []
  }
 ],
 "metadata": {
  "anaconda-cloud": {},
  "kernelspec": {
   "display_name": "Python 3",
   "language": "python",
   "name": "python3"
  },
  "language_info": {
   "codemirror_mode": {
    "name": "ipython",
    "version": 3
   },
   "file_extension": ".py",
   "mimetype": "text/x-python",
   "name": "python",
   "nbconvert_exporter": "python",
   "pygments_lexer": "ipython3",
   "version": "3.5.1"
  }
 },
 "nbformat": 4,
 "nbformat_minor": 0
}
